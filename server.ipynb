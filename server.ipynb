{
 "cells": [
  {
   "cell_type": "code",
   "execution_count": 1,
   "metadata": {},
   "outputs": [],
   "source": [
    "import hashlib\n",
    "import socket\n",
    "import threading\n",
    "import string    \n",
    "import random\n"
   ]
  },
  {
   "cell_type": "code",
   "execution_count": 9,
   "metadata": {},
   "outputs": [
    {
     "name": "stdout",
     "output_type": "stream",
     "text": [
      "privateString: lfAtVRDVhEsIilyjCTKo\n",
      "Encoded:  b'lfAtVRDVhEsIilyjCTKo'\n",
      "SHA1 Hashed:  <sha1 _hashlib.HASH object @ 0x0000015EE9B4D170>\n",
      "Hexadecimal:  5ea54def00326916d15208ce14460b5d0e49632e\n",
      "randomString:  gphehbCwWlRDGzFqvSKt\n",
      "Encoded:  b'gphehbCwWlRDGzFqvSKt'\n",
      "SHA1 Hashed:  <sha1 _hashlib.HASH object @ 0x0000015EE9B4D110>\n",
      "Hexadecimal:  41b519c480088a1c21012cf9e08a66e94749bae6\n",
      "SHA1 Hashed:  <sha1 _hashlib.HASH object @ 0x0000015EE9B4D0F0>\n",
      "Hexadecimal:  db4c1b28a2e09145c06dd827f6aca8c87b7f337d\n"
     ]
    }
   ],
   "source": [
    "#Private\n",
    "privateString = str(\"lfAtVRDVhEsIilyjCTKo\")\n",
    "print(\"privateString: \" + str(privateString))\n",
    "print(\"Encoded: \", privateString.encode())\n",
    "\n",
    "result = hashlib.sha1(privateString.encode())\n",
    "print(\"SHA1 Hashed: \", result)\n",
    "print(\"Hexadecimal: \", result.hexdigest())\n",
    " \n",
    "# Random\n",
    "randomString = str(''.join(random.choices(string.ascii_letters, k=20)))\n",
    "print(\"randomString: \", randomString)\n",
    "print(\"Encoded: \", randomString.encode())\n",
    "\n",
    "result2 = hashlib.sha1(randomString.encode())\n",
    "print(\"SHA1 Hashed: \", result2)\n",
    "print(\"Hexadecimal: \", result2.hexdigest())\n",
    "\n",
    "# Concatenated\n",
    "sha1Result = hashlib.sha1((randomString+privateString).encode())\n",
    "print(\"SHA1 Hashed: \", sha1Result)\n",
    "print(\"Hexadecimal: \", sha1Result.hexdigest())"
   ]
  },
  {
   "cell_type": "code",
   "execution_count": 10,
   "metadata": {},
   "outputs": [],
   "source": [
    "class ServerSocket:\n",
    "    def __init__(self, HOST, PORT):\n",
    "        self.HOST = HOST\n",
    "        self.PORT = PORT\n",
    "        self.socket = socket.socket(socket.AF_INET, socket.SOCK_STREAM)\n",
    "        self.socket.bind((HOST, PORT))\n",
    "\n",
    "    def start(self):\n",
    "        self.socket.listen()\n",
    "        print(f'[STARTING] {self.HOST}:{self.PORT}')\n",
    "\n",
    "        while True:\n",
    "            conn, addr = self.socket.accept()\n",
    "            print(f'[NEW CONNECTION] {addr}')\n",
    "\n",
    "            thread = threading.Thread(target=self.handle_connection, args=(conn, addr))\n",
    "            thread.start()\n",
    "            print(f'[ACTIVE THREADS] {threading.activeCount()-1}')\n",
    "\n",
    "\n",
    "    def handle_connection(self, conn, addr):\n",
    "        connected = True\n",
    "        while connected:\n",
    "            data = conn.recv(1024)\n",
    "            if data:\n",
    "                msg = data.decode()\n",
    "                print(f'[NEW MESSAGE] {addr}: {data}')\n",
    "\n",
    "                if msg == \"DISCONNECT\":\n",
    "                    connected = False\n",
    "                    print(f'[DISCONNECTED] {addr}')\n",
    "\n",
    "        conn.close()  \n",
    "        \n",
    "\n",
    "        "
   ]
  },
  {
   "cell_type": "code",
   "execution_count": 11,
   "metadata": {},
   "outputs": [
    {
     "name": "stdout",
     "output_type": "stream",
     "text": [
      "[STARTING] 127.0.0.1:3001\n",
      "[NEW CONNECTION] ('127.0.0.1', 60084)\n",
      "[ACTIVE THREADS] 6\n",
      "[NEW MESSAGE] ('127.0.0.1', 60084): b'Hello !!!'\n",
      "[NEW MESSAGE] ('127.0.0.1', 60084): b'DISCONNECT'\n",
      "[DISCONNECTED] ('127.0.0.1', 60084)\n",
      "[NEW CONNECTION] ('127.0.0.1', 60085)[ACTIVE THREADS] 6\n",
      "\n",
      "[NEW MESSAGE] ('127.0.0.1', 60085): b'Hello !!!'\n",
      "[NEW MESSAGE] ('127.0.0.1', 60085): b'DISCONNECT'\n",
      "[DISCONNECTED] ('127.0.0.1', 60085)\n"
     ]
    }
   ],
   "source": [
    "if __name__==\"__main__\":\n",
    "    s = ServerSocket('127.0.0.1', 3001)\n",
    "    s.start()\n"
   ]
  }
 ],
 "metadata": {
  "interpreter": {
   "hash": "73a5328612e3e091cc9d7b7ccaea84478ea5137ebdc15bd12283b2ec89fc8153"
  },
  "kernelspec": {
   "display_name": "Python 3.9.7 64-bit ('venv': venv)",
   "name": "python3"
  },
  "language_info": {
   "codemirror_mode": {
    "name": "ipython",
    "version": 3
   },
   "file_extension": ".py",
   "mimetype": "text/x-python",
   "name": "python",
   "nbconvert_exporter": "python",
   "pygments_lexer": "ipython3",
   "version": "3.9.7"
  },
  "orig_nbformat": 4
 },
 "nbformat": 4,
 "nbformat_minor": 2
}
