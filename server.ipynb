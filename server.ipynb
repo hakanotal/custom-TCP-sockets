{
 "cells": [
  {
   "cell_type": "code",
   "execution_count": 1,
   "metadata": {},
   "outputs": [],
   "source": [
    "import hashlib\n",
    "import socket\n",
    "import threading\n",
    "import string    \n",
    "import random\n"
   ]
  },
  {
   "cell_type": "code",
   "execution_count": 2,
   "metadata": {},
   "outputs": [
    {
     "name": "stdout",
     "output_type": "stream",
     "text": [
      "privateString: lfAtVRDVhEsIilyjCTKo\n",
      "Encoded:  b'lfAtVRDVhEsIilyjCTKo'\n",
      "SHA1 Hashed:  <sha1 _hashlib.HASH object @ 0x000001F6A4C49E10>\n",
      "Hexadecimal:  5ea54def00326916d15208ce14460b5d0e49632e\n",
      "randomString:  KnPclAZvKFWeZumJROVj\n",
      "Encoded:  b'KnPclAZvKFWeZumJROVj'\n",
      "SHA1 Hashed:  <sha1 _hashlib.HASH object @ 0x000001F6A4C49DF0>\n",
      "Hexadecimal:  4dfac57bd3aa5163081787f31b32f9b2334c897e\n",
      "SHA1 Hashed:  <sha1 _hashlib.HASH object @ 0x000001F6A4C49FD0>\n",
      "Hexadecimal:  df8902a307a5ca96e9e832b681688379214d9080\n"
     ]
    }
   ],
   "source": [
    "#Private\n",
    "privateString = str(\"lfAtVRDVhEsIilyjCTKo\")\n",
    "print(\"privateString: \" + str(privateString))\n",
    "print(\"Encoded: \", privateString.encode())\n",
    "\n",
    "result = hashlib.sha1(privateString.encode())\n",
    "print(\"SHA1 Hashed: \", result)\n",
    "print(\"Hexadecimal: \", result.hexdigest())\n",
    " \n",
    "# Random\n",
    "randomString = str(''.join(random.choices(string.ascii_letters, k=20)))\n",
    "print(\"randomString: \", randomString)\n",
    "print(\"Encoded: \", randomString.encode())\n",
    "\n",
    "result2 = hashlib.sha1(randomString.encode())\n",
    "print(\"SHA1 Hashed: \", result2)\n",
    "print(\"Hexadecimal: \", result2.hexdigest())\n",
    "\n",
    "# Concatenated\n",
    "sha1Result = hashlib.sha1((randomString+privateString).encode())\n",
    "print(\"SHA1 Hashed: \", sha1Result)\n",
    "print(\"Hexadecimal: \", sha1Result.hexdigest())"
   ]
  },
  {
   "cell_type": "code",
   "execution_count": 3,
   "metadata": {},
   "outputs": [],
   "source": [
    "class ServerSocket:\n",
    "    def __init__(self, HOST, PORT):\n",
    "        self.HOST = HOST\n",
    "        self.PORT = PORT\n",
    "        self.socket = socket.socket(socket.AF_INET, socket.SOCK_STREAM)\n",
    "        self.socket.bind((HOST, PORT))\n",
    "\n",
    "    def start(self):\n",
    "        self.socket.listen()\n",
    "        print(f'[STARTING] {self.HOST}:{self.PORT}')\n",
    "\n",
    "        while True:\n",
    "            conn, addr = self.socket.accept()\n",
    "            print(f'[NEW CONNECTION] {addr}')\n",
    "\n",
    "            thread = threading.Thread(target=self.handle_connection, args=(conn, addr))\n",
    "            thread.start()\n",
    "            print(f'[ACTIVE THREADS] {threading.activeCount()-1}')\n",
    "\n",
    "\n",
    "    def handle_connection(self, conn, addr):\n",
    "        connected = True\n",
    "        while connected:\n",
    "            data = conn.recv(2)\n",
    "            if data:\n",
    "                msg = data.decode(\"utf-8\")\n",
    "                i = int.from_bytes(data, byteorder='big')\n",
    "                print(f'[NEW MESSAGE] {addr}: {data} - {i}')\n",
    "\n",
    "                if msg == \"DISCONNECT\":\n",
    "                    connected = False\n",
    "                    print(f'[DISCONNECTED] {addr}')\n",
    "\n",
    "        conn.close()  \n",
    "        \n",
    "\n",
    "        "
   ]
  },
  {
   "cell_type": "code",
   "execution_count": 4,
   "metadata": {},
   "outputs": [
    {
     "name": "stdout",
     "output_type": "stream",
     "text": [
      "[STARTING] 127.0.0.1:3001\n",
      "[NEW CONNECTION] ('127.0.0.1', 60183)\n",
      "[NEW MESSAGE] ('127.0.0.1', 60183): b'\\x01$' - 292\n",
      "[ACTIVE THREADS] 6\n",
      "[NEW MESSAGE] ('127.0.0.1', 60183): b'DI' - 17481\n",
      "[NEW MESSAGE] ('127.0.0.1', 60183): b'SC' - 21315\n",
      "[NEW MESSAGE] ('127.0.0.1', 60183): b'ON' - 20302\n",
      "[NEW MESSAGE] ('127.0.0.1', 60183): b'NE' - 20037\n",
      "[NEW MESSAGE] ('127.0.0.1', 60183): b'CT' - 17236\n"
     ]
    }
   ],
   "source": [
    "if __name__==\"__main__\":\n",
    "    s = ServerSocket('127.0.0.1', 3001)\n",
    "    s.start()\n"
   ]
  }
 ],
 "metadata": {
  "interpreter": {
   "hash": "73a5328612e3e091cc9d7b7ccaea84478ea5137ebdc15bd12283b2ec89fc8153"
  },
  "kernelspec": {
   "display_name": "Python 3.9.7 64-bit ('venv': venv)",
   "name": "python3"
  },
  "language_info": {
   "codemirror_mode": {
    "name": "ipython",
    "version": 3
   },
   "file_extension": ".py",
   "mimetype": "text/x-python",
   "name": "python",
   "nbconvert_exporter": "python",
   "pygments_lexer": "ipython3",
   "version": "3.9.7"
  },
  "orig_nbformat": 4
 },
 "nbformat": 4,
 "nbformat_minor": 2
}
