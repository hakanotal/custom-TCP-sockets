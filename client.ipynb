{
 "cells": [
  {
   "cell_type": "code",
   "execution_count": 13,
   "metadata": {},
   "outputs": [],
   "source": [
    "import hashlib\n",
    "import socket\n",
    "import time"
   ]
  },
  {
   "cell_type": "code",
   "execution_count": 2,
   "metadata": {},
   "outputs": [],
   "source": [
    "startString = \"Start_Connection\"\n",
    "startHex = hashlib.sha1(startString.encode()).hexdigest()"
   ]
  },
  {
   "cell_type": "code",
   "execution_count": 8,
   "metadata": {},
   "outputs": [
    {
     "data": {
      "text/plain": [
       "<sha1 _hashlib.HASH object @ 0x0000023081BF8270>"
      ]
     },
     "execution_count": 8,
     "metadata": {},
     "output_type": "execute_result"
    }
   ],
   "source": [
    "hashlib.sha1(startString.encode() + startString.encode())"
   ]
  },
  {
   "cell_type": "code",
   "execution_count": 18,
   "metadata": {},
   "outputs": [],
   "source": [
    "class ClientSocket:\n",
    "    def __init__(self, HOST, PORT):\n",
    "        self.HOST = HOST\n",
    "        self.PORT = PORT\n",
    "        self.socket = socket.socket(socket.AF_INET, socket.SOCK_STREAM)\n",
    "\n",
    "        print(f'[CONNECTING] {self.HOST}:{self.PORT}')\n",
    "        self.socket.connect((HOST, PORT))\n",
    "\n",
    "    def send(self, msg):\n",
    "        data = msg.encode()\n",
    "        self.socket.send(data)\n",
    "        print(f'[SENT] {msg}')\n",
    "\n",
    "        time.sleep(3)     \n",
    "\n",
    "    def close(self):\n",
    "        self.socket.send(\"DISCONNECT\".encode())\n",
    "        print(f'[SENT] DISCONNECT')"
   ]
  },
  {
   "cell_type": "code",
   "execution_count": 23,
   "metadata": {},
   "outputs": [
    {
     "name": "stdout",
     "output_type": "stream",
     "text": [
      "[CONNECTING] localhost:3001\n",
      "[SENT] Hello !!!\n",
      "[SENT] DISCONNECT\n"
     ]
    }
   ],
   "source": [
    "if __name__==\"__main__\":\n",
    "    c = ClientSocket('localhost', 3001)\n",
    "    c.send(\"Hello !!!\")\n",
    "    c.close()"
   ]
  }
 ],
 "metadata": {
  "interpreter": {
   "hash": "73a5328612e3e091cc9d7b7ccaea84478ea5137ebdc15bd12283b2ec89fc8153"
  },
  "kernelspec": {
   "display_name": "Python 3.9.7 64-bit ('venv': venv)",
   "name": "python3"
  },
  "language_info": {
   "codemirror_mode": {
    "name": "ipython",
    "version": 3
   },
   "file_extension": ".py",
   "mimetype": "text/x-python",
   "name": "python",
   "nbconvert_exporter": "python",
   "pygments_lexer": "ipython3",
   "version": "3.9.7"
  },
  "orig_nbformat": 4
 },
 "nbformat": 4,
 "nbformat_minor": 2
}
