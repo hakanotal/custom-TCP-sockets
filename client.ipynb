{
 "cells": [
  {
   "cell_type": "code",
   "execution_count": 1,
   "metadata": {},
   "outputs": [],
   "source": [
    "import hashlib\n",
    "import socket\n",
    "import time\n",
    "import threading\n",
    "import string    \n",
    "import random"
   ]
  },
  {
   "cell_type": "code",
   "execution_count": 2,
   "metadata": {},
   "outputs": [
    {
     "name": "stdout",
     "output_type": "stream",
     "text": [
      "f52f1671ca7c30bb346e893842e022418c9f41eb e09718150b93ebc2f4e33cba41ff13ec23cd9bd5\n"
     ]
    }
   ],
   "source": [
    "startString = \"Start_Connection\"\n",
    "privateString = \"PRIVATE_KEY\"\n",
    "\n",
    "startHex = hashlib.sha1(startString.encode()).hexdigest()\n",
    "privateHex = hashlib.sha1(privateString.encode()).hexdigest()\n",
    "print(startHex, privateHex)"
   ]
  },
  {
   "cell_type": "code",
   "execution_count": 3,
   "metadata": {},
   "outputs": [
    {
     "data": {
      "text/plain": [
       "'0135e1b461baef3a589aab10e33421d7dde832ba'"
      ]
     },
     "execution_count": 3,
     "metadata": {},
     "output_type": "execute_result"
    }
   ],
   "source": [
    "hashlib.sha1(startString.encode() + privateString.encode()).hexdigest()"
   ]
  },
  {
   "cell_type": "code",
   "execution_count": 4,
   "metadata": {},
   "outputs": [
    {
     "data": {
      "text/plain": [
       "'0135e1b461baef3a589aab10e33421d7dde832ba'"
      ]
     },
     "execution_count": 4,
     "metadata": {},
     "output_type": "execute_result"
    }
   ],
   "source": [
    "hashlib.sha1((startString + privateString).encode()).hexdigest()"
   ]
  },
  {
   "cell_type": "code",
   "execution_count": 15,
   "metadata": {},
   "outputs": [],
   "source": [
    "class ClientSocket:\n",
    "    def __init__(self, HOST, PORT):\n",
    "        self.HOST = HOST\n",
    "        self.PORT = PORT\n",
    "        self.socket = socket.socket(socket.AF_INET, socket.SOCK_STREAM)\n",
    "        \n",
    "\n",
    "    def start(self):\n",
    "        self.socket.connect((self.HOST, self.PORT))\n",
    "        print(f'[CONNECTING] {self.HOST}:{self.PORT}')\n",
    "\n",
    "        thread = threading.Thread(target=self.handle_connection)\n",
    "        thread.start()\n",
    "        print(f'[ACTIVE THREADS] {threading.activeCount()-1}')\n",
    "\n",
    "\n",
    "    def handle_connection(self):\n",
    "        if self.auth():\n",
    "            connected = True\n",
    "            while connected:\n",
    "                pass\n",
    "\n",
    "        self.socket.send(\"DISCONNECT\".encode())\n",
    "        print(f'[DISCONNECTING]')\n",
    "\n",
    "\n",
    "    def auth(self):\n",
    "        startString = \"Start_Connection\"\n",
    "        privateString = \"PRIVATE_KEY_THIRTY_TWO_CHARACTER\"\n",
    "\n",
    "        self.socket.send(startString.encode())\n",
    "        print(f'[AUTH SENT] Start: {startString}')\n",
    "\n",
    "        randomString = self.socket.recv(1024).decode()\n",
    "        print(f'[AUTH RECIEVED] Random: {randomString}')\n",
    "\n",
    "        sha1Result = hashlib.sha1(privateString.encode() + randomString.encode()).hexdigest()\n",
    "        self.socket.send(sha1Result.encode())\n",
    "        print(f'[AUTH SENT] SHA1: {sha1Result}')\n",
    "\n",
    "        message = self.socket.recv(1024).decode()\n",
    "        print(f'[AUTH RECIEVED] Message: {message}')\n",
    "\n",
    "        if message == \"Authentication unsuccesful.\":\n",
    "            return False\n",
    "\n",
    "        global answer \n",
    "        answer = input()\n",
    "        self.socket.send(answer.encode())\n",
    "        print(f'[AUTH SENT] Answer: {answer}')\n",
    "\n",
    "        return True\n",
    "\n",
    "\n",
    "    def sendPacket(self, packet_type):\n",
    "        payload = '---'\n",
    "        packet_size = 0\n",
    "\n",
    "        if packet_type == 3: #Guess\n",
    "            payload = bytes(str(input(\"Guess number between [0-36]: \")).encode())\n",
    "            packet_size = len(payload)\n",
    "\n",
    "        header = bytes([packet_type, packet_size])\n",
    "  \n",
    "        self.socket.send(header)\n",
    "        self.socket.send(payload)\n",
    "        print(f'[SENT] Header: {header} - Payload: {payload}')\n",
    "    "
   ]
  },
  {
   "cell_type": "code",
   "execution_count": null,
   "metadata": {},
   "outputs": [],
   "source": [
    "if __name__==\"__main__\":\n",
    "    c = ClientSocket('localhost', 3001)\n",
    "    #c.send(bytes([1, 36]))\n",
    "    c.start()"
   ]
  },
  {
   "cell_type": "code",
   "execution_count": 10,
   "metadata": {},
   "outputs": [
    {
     "name": "stdout",
     "output_type": "stream",
     "text": [
      "b'\\x03\\x03345' 3 3 b'345'\n"
     ]
    }
   ],
   "source": [
    "packet_type = 3\n",
    "payload = input(\"What is your guess? Number, even, odd?\").encode()\n",
    "payload_size = len(payload)\n",
    "\n",
    "packet = bytes([packet_type, payload_size])+payload\n",
    "\n",
    "print(packet, packet[0], packet[1], packet[2:2+packet[1]])\n"
   ]
  },
  {
   "cell_type": "code",
   "execution_count": 12,
   "metadata": {},
   "outputs": [
    {
     "name": "stdout",
     "output_type": "stream",
     "text": [
      "2 b'\\x01\\x02'\n"
     ]
    }
   ],
   "source": [
    "a = (258).to_bytes(2, byteorder=\"big\", signed=True)\n",
    "print(len(a), a)"
   ]
  },
  {
   "cell_type": "code",
   "execution_count": null,
   "metadata": {},
   "outputs": [],
   "source": []
  }
 ],
 "metadata": {
  "interpreter": {
   "hash": "73a5328612e3e091cc9d7b7ccaea84478ea5137ebdc15bd12283b2ec89fc8153"
  },
  "kernelspec": {
   "display_name": "Python 3.9.7 64-bit ('venv': venv)",
   "name": "python3"
  },
  "language_info": {
   "codemirror_mode": {
    "name": "ipython",
    "version": 3
   },
   "file_extension": ".py",
   "mimetype": "text/x-python",
   "name": "python",
   "nbconvert_exporter": "python",
   "pygments_lexer": "ipython3",
   "version": "3.9.7"
  },
  "orig_nbformat": 4
 },
 "nbformat": 4,
 "nbformat_minor": 2
}
